{
 "cells": [
  {
   "cell_type": "code",
   "execution_count": 82,
   "id": "d149e21d",
   "metadata": {},
   "outputs": [
    {
     "name": "stdout",
     "output_type": "stream",
     "text": [
      "        FIT101    LIT101   MV101  P101  P102    AIT201    AIT202    AIT203  \\\n",
      "0     2.427057  522.8467       2     2     1  262.0161  8.396437  328.6337   \n",
      "1     2.446274  522.8860       2     2     1  262.0161  8.396437  328.6337   \n",
      "2     2.489191  522.8467       2     2     1  262.0161  8.394514  328.6337   \n",
      "3     2.534350  522.9645       2     2     1  262.0161  8.394514  328.6337   \n",
      "4     2.569260  523.4748       2     2     1  262.0161  8.394514  328.6337   \n",
      "...        ...       ...     ...   ...   ...       ...       ...       ...   \n",
      "9995  0.000000  810.6872       1     1     1  263.5222  8.439375  316.7906   \n",
      "9996  0.000000  810.6479       1     1     1  263.5222  8.439375  316.7906   \n",
      "9997  0.000000  810.8442       1     1     1  263.5222  8.439375  316.7906   \n",
      "9998  0.000000  811.0012       1     1     1  263.5222  8.439375  316.7906   \n",
      "9999  0.000000  810.6872       1     1     1  263.5222  8.439375  316.7906   \n",
      "\n",
      "        FIT201  Attack  \n",
      "0     2.445391       0  \n",
      "1     2.445391       0  \n",
      "2     2.442316       0  \n",
      "3     2.442316       0  \n",
      "4     2.443085       0  \n",
      "...        ...     ...  \n",
      "9995  0.000000       0  \n",
      "9996  0.000000       0  \n",
      "9997  0.000000       0  \n",
      "9998  0.000000       0  \n",
      "9999  0.000000       0  \n",
      "\n",
      "[10000 rows x 10 columns]\n",
      "        FIT101    LIT101   MV101  P101  P102    AIT201    AIT202    AIT203  \\\n",
      "0     2.427057  522.8467       2     2     1  262.0161  8.396437  328.6337   \n",
      "1     2.446274  522.8860       2     2     1  262.0161  8.396437  328.6337   \n",
      "2     2.489191  522.8467       2     2     1  262.0161  8.394514  328.6337   \n",
      "3     2.534350  522.9645       2     2     1  262.0161  8.394514  328.6337   \n",
      "4     2.569260  523.4748       2     2     1  262.0161  8.394514  328.6337   \n",
      "...        ...       ...     ...   ...   ...       ...       ...       ...   \n",
      "9995  0.000000  810.6872       1     1     1  263.5222  8.439375  316.7906   \n",
      "9996  0.000000  810.6479       1     1     1  263.5222  8.439375  316.7906   \n",
      "9997  0.000000  810.8442       1     1     1  263.5222  8.439375  316.7906   \n",
      "9998  0.000000  811.0012       1     1     1  263.5222  8.439375  316.7906   \n",
      "9999  0.000000  810.6872       1     1     1  263.5222  8.439375  316.7906   \n",
      "\n",
      "        FIT201  Attack  \n",
      "0     2.445391       0  \n",
      "1     2.445391       0  \n",
      "2     2.442316       0  \n",
      "3     2.442316       0  \n",
      "4     2.443085       0  \n",
      "...        ...     ...  \n",
      "9995  0.000000       0  \n",
      "9996  0.000000       0  \n",
      "9997  0.000000       0  \n",
      "9998  0.000000       0  \n",
      "9999  0.000000       0  \n",
      "\n",
      "[10000 rows x 10 columns]\n"
     ]
    }
   ],
   "source": [
    "print(df)\n",
    "timesteps = 4\n",
    "df_size = 10000 # datasize selected must have both attack and normal data.\n",
    "df_resize = int(df_size//timesteps) #data_size/timesteps using // because round down, example 10/3=3\n",
    "df_trunc_size = df_resize * timesteps # remove extra rows for so that data can be divided by timesteps\n",
    "\n",
    "\n",
    "num_classes = timesteps # follow timestep\n",
    "# load dataset\n",
    "import pandas as pd\n",
    "df = pd.read_csv(\"C:/Users/histan/Desktop/NTU AI Program/AI Lab/Lesson5 20210805/CyberSecurity.csv\")\n",
    "df_dim = len(df.columns)-1\n",
    "print(df)\n"
   ]
  },
  {
   "cell_type": "code",
   "execution_count": 83,
   "id": "d6dc106f",
   "metadata": {},
   "outputs": [
    {
     "name": "stdout",
     "output_type": "stream",
     "text": [
      "(2500, 4, 9)\n",
      "(2500, 4)\n"
     ]
    }
   ],
   "source": [
    "X = df.iloc[:,0:df_dim].values\n",
    "Y = df.iloc[:,df_dim].values\n",
    "\n",
    "# Reduce the size of data so that the data can be divided by time step\n",
    "# split into input (X) and output (Y) variables\n",
    "X = X[:df_trunc_size,0:df_dim]\n",
    "Y = Y[:df_trunc_size]\n",
    "\n",
    "# required format for lstm\n",
    "X_shaped = X.reshape(df_resize, timesteps, df_dim) \n",
    "Y_shaped = Y.reshape(df_resize,timesteps)\n",
    "\n",
    "print(X_shaped.shape)\n",
    "print(Y_shaped.shape)\n"
   ]
  },
  {
   "cell_type": "code",
   "execution_count": 84,
   "id": "689a52a0",
   "metadata": {},
   "outputs": [
    {
     "name": "stdout",
     "output_type": "stream",
     "text": [
      "[[[  2.584953 531.9534     2.       ...   8.395475 327.9159     2.443597]\n",
      "  [  2.566057 532.1497     2.       ...   8.395475 327.9159     2.443982]\n",
      "  [  2.551645 532.3066     2.       ...   8.395475 327.9159     2.445007]\n",
      "  [  2.532108 532.4637     2.       ...   8.395475 327.9159     2.443085]]\n",
      "\n",
      " [[  2.540435 663.2931     2.       ...   8.438414 318.303      0.      ]\n",
      "  [  2.540435 663.7642     2.       ...   8.438414 318.303      0.      ]\n",
      "  [  2.548121 664.1567     2.       ...   8.438414 318.303      0.      ]\n",
      "  [  2.548121 664.7847     2.       ...   8.438414 318.1236     0.      ]]\n",
      "\n",
      " [[  2.425456 508.5195     2.       ...   8.380735 328.4286     2.424375]\n",
      "  [  2.446274 508.5195     2.       ...   8.380735 328.4286     2.424375]\n",
      "  [  2.446274 508.5195     2.       ...   8.380735 328.4286     2.424375]\n",
      "  [  2.495276 508.1662     2.       ...   8.380735 328.4286     2.424375]]\n",
      "\n",
      " ...\n",
      "\n",
      " [[  2.491112 513.7401     2.       ...   8.380095 328.5312     2.425784]\n",
      "  [  2.471896 513.4261     2.       ...   8.380095 328.5312     2.425784]\n",
      "  [  2.458444 513.0336     2.       ...   8.380095 328.403      2.426169]\n",
      "  [  2.446274 512.5625     2.       ...   8.380095 328.403      2.426169]]\n",
      "\n",
      " [[  2.531467 546.3199     2.       ...   8.422712 320.8665     0.      ]\n",
      "  [  2.531467 546.4376     2.       ...   8.425276 320.687      0.      ]\n",
      "  [  2.53435  546.6732     2.       ...   8.432005 320.2512     0.      ]\n",
      "  [  2.53435  546.6732     2.       ...   8.432005 320.2512     0.      ]]\n",
      "\n",
      " [[  0.       731.2004     1.       ...   8.395475 328.6593     2.44757 ]\n",
      "  [  0.       730.8471     1.       ...   8.395475 328.6593     2.44757 ]\n",
      "  [  0.       730.4546     1.       ...   8.395475 328.6593     2.44757 ]\n",
      "  [  0.       730.1013     1.       ...   8.395475 328.6593     2.448082]]] [[[  2.536912 538.1553     2.       ...   8.399321 327.5827     2.09464 ]\n",
      "  [  2.514813 538.5479     2.       ...   8.399321 327.5827     1.782847]\n",
      "  [  2.496237 538.8619     2.       ...   8.399321 327.5827     1.39365 ]\n",
      "  [  2.480223 538.8226     2.       ...   8.399321 327.5827     1.022395]]\n",
      "\n",
      " [[  0.       525.9869     1.       ...   8.373686 331.838      2.440393]\n",
      "  [  0.       525.0842     1.       ...   8.373686 331.838      2.440265]\n",
      "  [  0.       524.6523     1.       ...   8.373686 331.838      2.440265]\n",
      "  [  0.       523.9066     1.       ...   8.373686 331.838      2.440265]]\n",
      "\n",
      " [[  2.505525 574.0323     2.       ...   8.445784 316.201      0.      ]\n",
      "  [  2.479903 574.0323     2.       ...   8.445784 316.201      0.      ]\n",
      "  [  2.466451 574.0323     2.       ...   8.445784 316.201      0.      ]\n",
      "  [  2.450758 574.0323     2.       ...   8.445784 316.201      0.      ]]\n",
      "\n",
      " ...\n",
      "\n",
      " [[  2.63844  574.0323     2.       ...   8.44322  316.1497     0.      ]\n",
      "  [  2.657336 574.0323     2.       ...   8.448988 316.1497     0.      ]\n",
      "  [  2.660539 574.0323     2.       ...   8.448988 316.1497     0.      ]\n",
      "  [  2.632354 574.0323     2.       ...   8.448988 315.9703     0.      ]]\n",
      "\n",
      " [[  2.526663 499.6876     2.       ...   8.379133 328.6593     2.425656]\n",
      "  [  2.566377 500.7474     2.       ...   8.379133 328.6593     2.425656]\n",
      "  [  2.598725 501.0615     2.       ...   8.379133 328.6593     2.425656]\n",
      "  [  2.622746 501.3755     2.       ...   8.379133 328.8644     2.425656]]\n",
      "\n",
      " [[  2.552926 740.8173     2.       ...   8.366636 329.7103     2.451927]\n",
      "  [  2.550364 740.5033     2.       ...   8.366636 329.7103     2.451927]\n",
      "  [  2.548442 740.6603     2.       ...   8.366636 329.7103     2.451927]\n",
      "  [  2.548442 740.6995     2.       ...   8.366636 329.7103     2.451927]]] [[0 0 0 0]\n",
      " [1 1 1 1]\n",
      " [0 0 0 0]\n",
      " ...\n",
      " [0 0 0 0]\n",
      " [0 0 0 0]\n",
      " [0 0 0 0]] [[0 0 0 0]\n",
      " [0 0 0 0]\n",
      " [0 0 0 0]\n",
      " ...\n",
      " [0 0 0 0]\n",
      " [0 0 0 0]\n",
      " [0 0 0 0]]\n"
     ]
    }
   ],
   "source": [
    "from sklearn.model_selection import train_test_split\n",
    "X_train, X_test, Y_train, Y_test = train_test_split(X_shaped, Y_shaped, test_size=0.3)\n",
    "\n",
    "\n",
    "print(X_train, X_test, Y_train, Y_test)"
   ]
  },
  {
   "cell_type": "code",
   "execution_count": 85,
   "id": "a476f3b7",
   "metadata": {},
   "outputs": [],
   "source": [
    "from tensorflow.keras.models import Sequential\n",
    "from tensorflow.keras.layers import Dense, LSTM, SimpleRNN, GRU, Dropout\n"
   ]
  },
  {
   "cell_type": "code",
   "execution_count": 86,
   "id": "06bc1242",
   "metadata": {},
   "outputs": [],
   "source": [
    "model = Sequential()\n",
    "model.add(LSTM(10, return_sequences=True, input_shape=(timesteps, df_dim)))\n"
   ]
  },
  {
   "cell_type": "code",
   "execution_count": 87,
   "id": "0560afd5",
   "metadata": {},
   "outputs": [],
   "source": [
    "model.add(Dropout(0.2))\n"
   ]
  },
  {
   "cell_type": "code",
   "execution_count": 88,
   "id": "5fd43db9",
   "metadata": {},
   "outputs": [],
   "source": [
    "model.add(LSTM(10, return_sequences=True))"
   ]
  },
  {
   "cell_type": "code",
   "execution_count": 89,
   "id": "d561aa72",
   "metadata": {},
   "outputs": [],
   "source": [
    "model.add(Dropout(0.2))"
   ]
  },
  {
   "cell_type": "code",
   "execution_count": 90,
   "id": "cf8161b7",
   "metadata": {},
   "outputs": [],
   "source": [
    "model.add(LSTM(10))  "
   ]
  },
  {
   "cell_type": "code",
   "execution_count": 91,
   "id": "d58bbc2b",
   "metadata": {},
   "outputs": [],
   "source": [
    "model.add(Dropout(0.2))"
   ]
  },
  {
   "cell_type": "code",
   "execution_count": 92,
   "id": "ee103d3c",
   "metadata": {},
   "outputs": [],
   "source": [
    "model.add(Dense(num_classes,activation=\"sigmoid\"))"
   ]
  },
  {
   "cell_type": "code",
   "execution_count": 93,
   "id": "aba3d697",
   "metadata": {},
   "outputs": [
    {
     "name": "stdout",
     "output_type": "stream",
     "text": [
      "Model: \"sequential_11\"\n",
      "_________________________________________________________________\n",
      "Layer (type)                 Output Shape              Param #   \n",
      "=================================================================\n",
      "lstm_21 (LSTM)               (None, 4, 10)             800       \n",
      "_________________________________________________________________\n",
      "dropout_19 (Dropout)         (None, 4, 10)             0         \n",
      "_________________________________________________________________\n",
      "lstm_22 (LSTM)               (None, 4, 10)             840       \n",
      "_________________________________________________________________\n",
      "dropout_20 (Dropout)         (None, 4, 10)             0         \n",
      "_________________________________________________________________\n",
      "lstm_23 (LSTM)               (None, 10)                840       \n",
      "_________________________________________________________________\n",
      "dropout_21 (Dropout)         (None, 10)                0         \n",
      "_________________________________________________________________\n",
      "dense_3 (Dense)              (None, 4)                 44        \n",
      "=================================================================\n",
      "Total params: 2,524\n",
      "Trainable params: 2,524\n",
      "Non-trainable params: 0\n",
      "_________________________________________________________________\n"
     ]
    }
   ],
   "source": [
    "model.summary()\n"
   ]
  },
  {
   "cell_type": "code",
   "execution_count": 94,
   "id": "4721ef87",
   "metadata": {},
   "outputs": [],
   "source": [
    "model.compile(loss='binary_crossentropy', optimizer='rmsprop', metrics=['accuracy'])"
   ]
  },
  {
   "cell_type": "code",
   "execution_count": 95,
   "id": "3d8221d4",
   "metadata": {},
   "outputs": [
    {
     "name": "stdout",
     "output_type": "stream",
     "text": [
      "Epoch 1/20\n",
      "18/18 [==============================] - 0s 5ms/step - loss: 0.6788 - accuracy: 0.4034\n",
      "Epoch 2/20\n",
      "18/18 [==============================] - 0s 4ms/step - loss: 0.6466 - accuracy: 0.4594\n",
      "Epoch 3/20\n",
      "18/18 [==============================] - 0s 4ms/step - loss: 0.6131 - accuracy: 0.4229\n",
      "Epoch 4/20\n",
      "18/18 [==============================] - 0s 4ms/step - loss: 0.5930 - accuracy: 0.4131\n",
      "Epoch 5/20\n",
      "18/18 [==============================] - 0s 4ms/step - loss: 0.5801 - accuracy: 0.3800\n",
      "Epoch 6/20\n",
      "18/18 [==============================] - 0s 4ms/step - loss: 0.5703 - accuracy: 0.3297\n",
      "Epoch 7/20\n",
      "18/18 [==============================] - 0s 4ms/step - loss: 0.5563 - accuracy: 0.3394\n",
      "Epoch 8/20\n",
      "18/18 [==============================] - 0s 4ms/step - loss: 0.5423 - accuracy: 0.3309\n",
      "Epoch 9/20\n",
      "18/18 [==============================] - 0s 4ms/step - loss: 0.5368 - accuracy: 0.3131\n",
      "Epoch 10/20\n",
      "18/18 [==============================] - 0s 4ms/step - loss: 0.5236 - accuracy: 0.2943\n",
      "Epoch 11/20\n",
      "18/18 [==============================] - 0s 4ms/step - loss: 0.5173 - accuracy: 0.3069\n",
      "Epoch 12/20\n",
      "18/18 [==============================] - 0s 4ms/step - loss: 0.5115 - accuracy: 0.2863\n",
      "Epoch 13/20\n",
      "18/18 [==============================] - 0s 4ms/step - loss: 0.4965 - accuracy: 0.2783\n",
      "Epoch 14/20\n",
      "18/18 [==============================] - 0s 4ms/step - loss: 0.5047 - accuracy: 0.2560\n",
      "Epoch 15/20\n",
      "18/18 [==============================] - 0s 4ms/step - loss: 0.4960 - accuracy: 0.2646\n",
      "Epoch 16/20\n",
      "18/18 [==============================] - 0s 4ms/step - loss: 0.4900 - accuracy: 0.2577\n",
      "Epoch 17/20\n",
      "18/18 [==============================] - 0s 4ms/step - loss: 0.4906 - accuracy: 0.2526\n",
      "Epoch 18/20\n",
      "18/18 [==============================] - 0s 4ms/step - loss: 0.4827 - accuracy: 0.2686\n",
      "Epoch 19/20\n",
      "18/18 [==============================] - 0s 4ms/step - loss: 0.4786 - accuracy: 0.2383\n",
      "Epoch 20/20\n",
      "18/18 [==============================] - 0s 4ms/step - loss: 0.4811 - accuracy: 0.2446\n"
     ]
    },
    {
     "data": {
      "text/plain": [
       "<tensorflow.python.keras.callbacks.History at 0x254eb982bb0>"
      ]
     },
     "execution_count": 95,
     "metadata": {},
     "output_type": "execute_result"
    }
   ],
   "source": [
    "model.fit(X_train, Y_train, batch_size=100, epochs = 20)"
   ]
  },
  {
   "cell_type": "code",
   "execution_count": 96,
   "id": "ca98f865",
   "metadata": {},
   "outputs": [
    {
     "name": "stdout",
     "output_type": "stream",
     "text": [
      "[[2185   17]\n",
      " [ 526  272]]\n",
      "0.819\n"
     ]
    }
   ],
   "source": [
    "from sklearn.metrics import confusion_matrix\n",
    "\n",
    "pred = model.predict(X_test)\n",
    "# proba is the probability. Here we set threshold as 0.5 to be considered true.\n",
    "pred = pred > 0.5\n",
    "# Reshape to a single dimension for comparison and to create confusion matrix\n",
    "pred = pred.reshape(pred.shape[0]*pred.shape[1])\n",
    "actual = Y_test.reshape(Y_test.shape[0]*Y_test.shape[1])\n",
    "cm = confusion_matrix(actual, pred)\n",
    "print(cm)\n",
    "accuracy = (cm[0,0] + cm[1,1])/sum(sum(cm))\n",
    "print(accuracy)\n"
   ]
  },
  {
   "cell_type": "code",
   "execution_count": 97,
   "id": "3182ad7b",
   "metadata": {},
   "outputs": [
    {
     "name": "stdout",
     "output_type": "stream",
     "text": [
      "Model: \"sequential_12\"\n",
      "_________________________________________________________________\n",
      "Layer (type)                 Output Shape              Param #   \n",
      "=================================================================\n",
      "gru_3 (GRU)                  (None, 4, 12)             828       \n",
      "_________________________________________________________________\n",
      "dropout_22 (Dropout)         (None, 4, 12)             0         \n",
      "_________________________________________________________________\n",
      "gru_4 (GRU)                  (None, 4, 12)             936       \n",
      "_________________________________________________________________\n",
      "dropout_23 (Dropout)         (None, 4, 12)             0         \n",
      "_________________________________________________________________\n",
      "gru_5 (GRU)                  (None, 12)                936       \n",
      "_________________________________________________________________\n",
      "dropout_24 (Dropout)         (None, 12)                0         \n",
      "_________________________________________________________________\n",
      "dense_4 (Dense)              (None, 4)                 52        \n",
      "=================================================================\n",
      "Total params: 2,752\n",
      "Trainable params: 2,752\n",
      "Non-trainable params: 0\n",
      "_________________________________________________________________\n",
      "Epoch 1/20\n",
      "18/18 [==============================] - 0s 5ms/step - loss: 0.6090 - accuracy: 0.2349\n",
      "Epoch 2/20\n",
      "18/18 [==============================] - 0s 4ms/step - loss: 0.5877 - accuracy: 0.2583\n",
      "Epoch 3/20\n",
      "18/18 [==============================] - 0s 4ms/step - loss: 0.5837 - accuracy: 0.2766\n",
      "Epoch 4/20\n",
      "18/18 [==============================] - 0s 4ms/step - loss: 0.5657 - accuracy: 0.2783\n",
      "Epoch 5/20\n",
      "18/18 [==============================] - 0s 4ms/step - loss: 0.5552 - accuracy: 0.2846\n",
      "Epoch 6/20\n",
      "18/18 [==============================] - 0s 4ms/step - loss: 0.5429 - accuracy: 0.2846\n",
      "Epoch 7/20\n",
      "18/18 [==============================] - 0s 4ms/step - loss: 0.5336 - accuracy: 0.2949\n",
      "Epoch 8/20\n",
      "18/18 [==============================] - 0s 4ms/step - loss: 0.5254 - accuracy: 0.3023\n",
      "Epoch 9/20\n",
      "18/18 [==============================] - 0s 4ms/step - loss: 0.5286 - accuracy: 0.3177\n",
      "Epoch 10/20\n",
      "18/18 [==============================] - 0s 4ms/step - loss: 0.5132 - accuracy: 0.3143\n",
      "Epoch 11/20\n",
      "18/18 [==============================] - 0s 4ms/step - loss: 0.5204 - accuracy: 0.3217\n",
      "Epoch 12/20\n",
      "18/18 [==============================] - 0s 4ms/step - loss: 0.5144 - accuracy: 0.3383\n",
      "Epoch 13/20\n",
      "18/18 [==============================] - 0s 4ms/step - loss: 0.5120 - accuracy: 0.3491\n",
      "Epoch 14/20\n",
      "18/18 [==============================] - 0s 4ms/step - loss: 0.5094 - accuracy: 0.3531\n",
      "Epoch 15/20\n",
      "18/18 [==============================] - 0s 4ms/step - loss: 0.4984 - accuracy: 0.3354\n",
      "Epoch 16/20\n",
      "18/18 [==============================] - 0s 4ms/step - loss: 0.4976 - accuracy: 0.3120\n",
      "Epoch 17/20\n",
      "18/18 [==============================] - 0s 4ms/step - loss: 0.4975 - accuracy: 0.3263\n",
      "Epoch 18/20\n",
      "18/18 [==============================] - 0s 4ms/step - loss: 0.4971 - accuracy: 0.3366\n",
      "Epoch 19/20\n",
      "18/18 [==============================] - 0s 4ms/step - loss: 0.4960 - accuracy: 0.3063\n",
      "Epoch 20/20\n",
      "18/18 [==============================] - 0s 5ms/step - loss: 0.4868 - accuracy: 0.3251\n"
     ]
    },
    {
     "data": {
      "text/plain": [
       "<tensorflow.python.keras.callbacks.History at 0x254f632b610>"
      ]
     },
     "execution_count": 97,
     "metadata": {},
     "output_type": "execute_result"
    }
   ],
   "source": [
    "model = Sequential()\n",
    "model.add(GRU(12, return_sequences=True, input_shape=(timesteps, df_dim)))\n",
    "model.add(Dropout(0.2))\n",
    "model.add(GRU(12,return_sequences=True))\n",
    "model.add(Dropout(0.2))\n",
    "model.add(GRU(12))  # return a single vector of dimension 40\n",
    "model.add(Dropout(0.2))\n",
    "model.add(Dense(num_classes, activation='sigmoid'))\n",
    "model.summary()\n",
    "model.compile(loss='binary_crossentropy', optimizer='rmsprop', metrics=['accuracy'])\n",
    "\n",
    "# Train the model\n",
    "model.fit(X_train, Y_train, batch_size=100, epochs = 20)\n"
   ]
  },
  {
   "cell_type": "code",
   "execution_count": 98,
   "id": "4d9d970e",
   "metadata": {},
   "outputs": [
    {
     "name": "stdout",
     "output_type": "stream",
     "text": [
      "[[2178   24]\n",
      " [ 530  268]]\n",
      "0.8153333333333334\n"
     ]
    }
   ],
   "source": [
    "pred = model.predict(X_test)\n",
    "\n",
    "# proba is the probability. Here we set threshold as 0.5 to be considered true.\n",
    "pred = pred > 0.35\n",
    "# Reshape to a single dimension for comparison and to create confusion matrix\n",
    "pred = pred.reshape(pred.shape[0]*pred.shape[1])\n",
    "actual = Y_test.reshape(Y_test.shape[0]*Y_test.shape[1])\n",
    "cm = confusion_matrix(actual, pred)\n",
    "print(cm)\n",
    "accuracy = (cm[0,0] + cm[1,1])/sum(sum(cm))\n",
    "print(accuracy)\n"
   ]
  },
  {
   "cell_type": "code",
   "execution_count": 99,
   "id": "1c4087ce",
   "metadata": {},
   "outputs": [
    {
     "name": "stdout",
     "output_type": "stream",
     "text": [
      "Model: \"sequential_13\"\n",
      "_________________________________________________________________\n",
      "Layer (type)                 Output Shape              Param #   \n",
      "=================================================================\n",
      "simple_rnn_3 (SimpleRNN)     (None, 4, 12)             264       \n",
      "_________________________________________________________________\n",
      "dropout_25 (Dropout)         (None, 4, 12)             0         \n",
      "_________________________________________________________________\n",
      "simple_rnn_4 (SimpleRNN)     (None, 4, 12)             300       \n",
      "_________________________________________________________________\n",
      "dropout_26 (Dropout)         (None, 4, 12)             0         \n",
      "_________________________________________________________________\n",
      "simple_rnn_5 (SimpleRNN)     (None, 12)                300       \n",
      "_________________________________________________________________\n",
      "dropout_27 (Dropout)         (None, 12)                0         \n",
      "_________________________________________________________________\n",
      "dense_5 (Dense)              (None, 4)                 52        \n",
      "=================================================================\n",
      "Total params: 916\n",
      "Trainable params: 916\n",
      "Non-trainable params: 0\n",
      "_________________________________________________________________\n",
      "Epoch 1/20\n",
      "18/18 [==============================] - 0s 2ms/step - loss: 0.6200 - accuracy: 0.3171\n",
      "Epoch 2/20\n",
      "18/18 [==============================] - 0s 2ms/step - loss: 0.5911 - accuracy: 0.2097\n",
      "Epoch 3/20\n",
      "18/18 [==============================] - 0s 2ms/step - loss: 0.5695 - accuracy: 0.1766\n",
      "Epoch 4/20\n",
      "18/18 [==============================] - 0s 2ms/step - loss: 0.5457 - accuracy: 0.1697\n",
      "Epoch 5/20\n",
      "18/18 [==============================] - 0s 2ms/step - loss: 0.5298 - accuracy: 0.1817\n",
      "Epoch 6/20\n",
      "18/18 [==============================] - 0s 2ms/step - loss: 0.5192 - accuracy: 0.1663\n",
      "Epoch 7/20\n",
      "18/18 [==============================] - 0s 2ms/step - loss: 0.5150 - accuracy: 0.1880\n",
      "Epoch 8/20\n",
      "18/18 [==============================] - 0s 2ms/step - loss: 0.5219 - accuracy: 0.1874\n",
      "Epoch 9/20\n",
      "18/18 [==============================] - 0s 2ms/step - loss: 0.5058 - accuracy: 0.1960\n",
      "Epoch 10/20\n",
      "18/18 [==============================] - 0s 2ms/step - loss: 0.5074 - accuracy: 0.2120\n",
      "Epoch 11/20\n",
      "18/18 [==============================] - 0s 2ms/step - loss: 0.4982 - accuracy: 0.2177\n",
      "Epoch 12/20\n",
      "18/18 [==============================] - 0s 2ms/step - loss: 0.5033 - accuracy: 0.2303\n",
      "Epoch 13/20\n",
      "18/18 [==============================] - 0s 2ms/step - loss: 0.4905 - accuracy: 0.2086\n",
      "Epoch 14/20\n",
      "18/18 [==============================] - 0s 2ms/step - loss: 0.4955 - accuracy: 0.2046\n",
      "Epoch 15/20\n",
      "18/18 [==============================] - 0s 2ms/step - loss: 0.4991 - accuracy: 0.2377\n",
      "Epoch 16/20\n",
      "18/18 [==============================] - 0s 2ms/step - loss: 0.4904 - accuracy: 0.2280\n",
      "Epoch 17/20\n",
      "18/18 [==============================] - 0s 2ms/step - loss: 0.4864 - accuracy: 0.2503\n",
      "Epoch 18/20\n",
      "18/18 [==============================] - 0s 2ms/step - loss: 0.4957 - accuracy: 0.2360\n",
      "Epoch 19/20\n",
      "18/18 [==============================] - 0s 2ms/step - loss: 0.4898 - accuracy: 0.2246\n",
      "Epoch 20/20\n",
      "18/18 [==============================] - 0s 2ms/step - loss: 0.4848 - accuracy: 0.2331\n"
     ]
    },
    {
     "data": {
      "text/plain": [
       "<tensorflow.python.keras.callbacks.History at 0x25507d4de80>"
      ]
     },
     "execution_count": 99,
     "metadata": {},
     "output_type": "execute_result"
    }
   ],
   "source": [
    "model = Sequential()\n",
    "model.add(SimpleRNN(12, return_sequences=True, input_shape=(timesteps, df_dim)))\n",
    "model.add(Dropout(0.2))\n",
    "model.add(SimpleRNN(12, return_sequences=True))\n",
    "model.add(Dropout(0.2))\n",
    "model.add(SimpleRNN(12))  # return a single vector of dimension 40\n",
    "model.add(Dropout(0.2))\n",
    "model.add(Dense(num_classes, activation='sigmoid'))\n",
    "model.summary()\n",
    "model.compile(loss='binary_crossentropy', optimizer='rmsprop', metrics=['accuracy'])\n",
    "\n",
    "# Train the model\n",
    "model.fit(X_train, Y_train, batch_size=100, epochs = 20)\n"
   ]
  },
  {
   "cell_type": "code",
   "execution_count": 100,
   "id": "771d369c",
   "metadata": {},
   "outputs": [
    {
     "name": "stdout",
     "output_type": "stream",
     "text": [
      "[[2185   17]\n",
      " [ 526  272]]\n",
      "0.819\n"
     ]
    }
   ],
   "source": [
    "pred = model.predict(X_test)\n",
    "\n",
    "# proba is the probability. Here we set threshold as 0.5 to be considered true.\n",
    "pred = pred > 0.25\n",
    "# Reshape to a single dimension for comparison and to create confusion matrix\n",
    "pred = pred.reshape(pred.shape[0]*pred.shape[1])\n",
    "actual = Y_test.reshape(Y_test.shape[0]*Y_test.shape[1])\n",
    "cm = confusion_matrix(actual, pred)\n",
    "print(cm)\n",
    "accuracy = (cm[0,0] + cm[1,1])/sum(sum(cm))\n",
    "print(accuracy)\n"
   ]
  }
 ],
 "metadata": {
  "kernelspec": {
   "display_name": "Python 3",
   "language": "python",
   "name": "python3"
  },
  "language_info": {
   "codemirror_mode": {
    "name": "ipython",
    "version": 3
   },
   "file_extension": ".py",
   "mimetype": "text/x-python",
   "name": "python",
   "nbconvert_exporter": "python",
   "pygments_lexer": "ipython3",
   "version": "3.8.8"
  }
 },
 "nbformat": 4,
 "nbformat_minor": 5
}
