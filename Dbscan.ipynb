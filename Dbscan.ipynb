{
 "cells": [
  {
   "cell_type": "code",
   "execution_count": 1,
   "id": "3c486019",
   "metadata": {},
   "outputs": [],
   "source": [
    "import numpy as np\n",
    "import cv2\n",
    "from PIL import Image  \n",
    "from scipy import ndimage\n",
    "import matplotlib.pyplot as plt\n",
    "from sklearn.cluster import DBSCAN"
   ]
  },
  {
   "cell_type": "code",
   "execution_count": 2,
   "id": "ebd04c23",
   "metadata": {},
   "outputs": [
    {
     "data": {
      "text/plain": [
       "-1"
      ]
     },
     "execution_count": 2,
     "metadata": {},
     "output_type": "execute_result"
    }
   ],
   "source": [
    "img_path = \"Banana.jpg\"\n",
    "img = cv2.imread(img_path)\n",
    "img=cv2.resize(img,(300,300))\n",
    "gray = cv2.cvtColor(img, cv2.COLOR_BGR2GRAY)\n",
    "cv2.imshow(\"img\",gray)\n",
    "cv2.waitKey(0)"
   ]
  },
  {
   "cell_type": "code",
   "execution_count": 3,
   "id": "030eb9d0",
   "metadata": {},
   "outputs": [
    {
     "data": {
      "text/plain": [
       "-1"
      ]
     },
     "execution_count": 3,
     "metadata": {},
     "output_type": "execute_result"
    }
   ],
   "source": [
    "gray = cv2.cvtColor(img, cv2.COLOR_BGR2GRAY)\n",
    "blurred = cv2.GaussianBlur(gray, (9, 9),0) \n",
    "img2 = gray-blurred\n",
    "cv2.imshow(\"img2\",img2)\n",
    "cv2.waitKey(0)"
   ]
  },
  {
   "cell_type": "code",
   "execution_count": 4,
   "id": "baec859c",
   "metadata": {},
   "outputs": [
    {
     "data": {
      "text/plain": [
       "-1"
      ]
     },
     "execution_count": 4,
     "metadata": {},
     "output_type": "execute_result"
    }
   ],
   "source": [
    "blurred = cv2.GaussianBlur(img2 , (5, 5),20)\n",
    "(_, thresh) = cv2.threshold(blurred, 40, 255, cv2.THRESH_BINARY)\n",
    "cv2.imshow(\"img3\",thresh)\n",
    "cv2.waitKey(0)"
   ]
  },
  {
   "cell_type": "code",
   "execution_count": 5,
   "id": "d6634943",
   "metadata": {},
   "outputs": [
    {
     "data": {
      "image/png": "[encoded data removed]",
      "text/plain": [
       "<Figure size 432x288 with 1 Axes>"
      ]
     },
     "metadata": {
      "needs_background": "light"
     },
     "output_type": "display_data"
    }
   ],
   "source": [
    "size_x = thresh.shape[0]\n",
    "size_y = thresh.shape[1]\n",
    "picture_data = np.array(thresh)\n",
    "Pic_Data = []\n",
    "\n",
    "for i in range(size_x):\n",
    "    for j in range(size_y):\n",
    "        if picture_data[i][j] == 0:\n",
    "            Pic_Data.append([i,j])\n",
    "            #plt.plot(i,j,'o')\n",
    "X=np.array(Pic_Data)\n",
    "size=len(X)\n",
    "y_pred = DBSCAN(eps = 50, min_samples = 10).fit_predict(X)\n",
    "#plt.plot(X[0:size,1],X[0:size,0],'o')\n",
    "Pic_Data_1 = []\n",
    "for k in range(len(X)):\n",
    "    if(y_pred[k]==0):\n",
    "        Pic_Data_1.append(Pic_Data[k])\n",
    "        \n",
    "X=np.array(Pic_Data_1)\n",
    "plt.plot(X[:, 0], X[:, 1],'o')\n",
    "plt.show()"
   ]
  },
  {
   "cell_type": "code",
   "execution_count": 6,
   "id": "94a0697c",
   "metadata": {},
   "outputs": [
    {
     "data": {
      "text/plain": [
       "-1"
      ]
     },
     "execution_count": 6,
     "metadata": {},
     "output_type": "execute_result"
    }
   ],
   "source": [
    "kernel = cv2.getStructuringElement(cv2.MORPH_ELLIPSE, (1, 1))\n",
    "closed = cv2.morphologyEx(thresh, cv2.MORPH_CLOSE, kernel)\n",
    "cv2.imshow(\"img5\",closed)\n",
    "cv2.waitKey(0)"
   ]
  },
  {
   "cell_type": "code",
   "execution_count": 7,
   "id": "1ee6c2bd",
   "metadata": {},
   "outputs": [],
   "source": [
    "closed = cv2.erode(closed, None, iterations=16)\n",
    "closed = cv2.dilate(closed, None, iterations=16)"
   ]
  },
  {
   "cell_type": "code",
   "execution_count": 8,
   "id": "3e460122",
   "metadata": {},
   "outputs": [],
   "source": [
    "def findcnts_and_box_point(closed):\n",
    "    \n",
    "    cnts,_ = cv2.findContours(closed.copy(), cv2.RETR_LIST, cv2.CHAIN_APPROX_SIMPLE)\n",
    "    c = sorted(cnts, key=cv2.contourArea, reverse=True)[0]\n",
    "    rect = cv2.minAreaRect(c)\n",
    "    box = np.int0(cv2.boxPoints(rect))\n",
    "    \n",
    "    return box\n"
   ]
  },
  {
   "cell_type": "code",
   "execution_count": 9,
   "id": "3db53000",
   "metadata": {},
   "outputs": [],
   "source": [
    "def drawcnts_and_cut(original_img, box):\n",
    "    draw_img = cv2.drawContours(original_img.copy(), [box], -1, (0, 0, 255), 3)\n",
    "    \n",
    "    Xs = [i[0] for i in box]\n",
    "    Ys = [i[1] for i in box]\n",
    "    x1 = min(Xs)\n",
    "    x2 = max(Xs)\n",
    "    y1 = min(Ys)\n",
    "    y2 = max(Ys)\n",
    "    hight = y2 - y1\n",
    "    width = x2 - x1\n",
    "    crop_img = original_img[y1:y1+hight, x1:x1+width]\n",
    "    \n",
    "    return draw_img, crop_img\n"
   ]
  },
  {
   "cell_type": "code",
   "execution_count": 10,
   "id": "16654a83",
   "metadata": {},
   "outputs": [],
   "source": [
    "def image_morphology(thresh):\n",
    "    kernel = cv2.getStructuringElement(cv2.MORPH_ELLIPSE, (1, 1))\n",
    "    closed = cv2.morphologyEx(thresh, cv2.MORPH_CLOSE, kernel)\n",
    "    closed = cv2.erode(closed, None, iterations=4)\n",
    "    closed = cv2.dilate(closed, None, iterations=4)\n",
    "    \n",
    "    return closed\n"
   ]
  },
  {
   "cell_type": "code",
   "execution_count": 11,
   "id": "111ede3f",
   "metadata": {},
   "outputs": [],
   "source": [
    "def Thresh_and_blur(gradient):\n",
    "    \n",
    "    blurred = cv2.GaussianBlur(gradient, (5, 5),20)\n",
    "    (_, thresh) = cv2.threshold(blurred, 40, 255, cv2.THRESH_BINARY)\n",
    "    \n",
    "    return thresh"
   ]
  },
  {
   "cell_type": "code",
   "execution_count": 12,
   "id": "b0143be6",
   "metadata": {},
   "outputs": [
    {
     "data": {
      "image/png": "[encoded data removed]",
      "text/plain": [
       "<Figure size 432x288 with 1 Axes>"
      ]
     },
     "metadata": {
      "needs_background": "light"
     },
     "output_type": "display_data"
    }
   ],
   "source": [
    "original_img = cv2.imread('Banana.jpg')\n",
    "original_img = cv2.resize(img,(300,300))\n",
    "gray=cv2.cvtColor(original_img,cv2.COLOR_BGR2GRAY)\n",
    "\n",
    "blurred = cv2.GaussianBlur(gray, (5, 5),20) \n",
    "img2 = gray-blurred\n",
    "\n",
    "blurred = cv2.GaussianBlur(img2, (5, 5),20)\n",
    "(_, thresh) = cv2.threshold(blurred, 40, 255, cv2.THRESH_BINARY)\n",
    "\n",
    "\n",
    "size_x = thresh.shape[0]\n",
    "size_y = thresh.shape[1]\n",
    "picture_data = np.array(thresh)\n",
    "Pic_Data = []\n",
    "\n",
    "\n",
    "for i in range(size_x):\n",
    "    for j in range(size_y):\n",
    "        if picture_data[i][j] == 0:\n",
    "            Pic_Data.append([i,j])\n",
    "            #plt.plot(i,j,'o')\n",
    "X=np.array(Pic_Data)\n",
    "size=len(X)\n",
    "y_pred = DBSCAN(eps = 40, min_samples = 10).fit_predict(X)\n",
    "#plt.plot(X[0:size,1],X[0:size,0],'o')\n",
    "Pic_Data_1 = []\n",
    "for k in range(len(X)):\n",
    "    if(y_pred[k]==0):\n",
    "        Pic_Data_1.append(Pic_Data[k])\n",
    "        \n",
    "X=np.array(Pic_Data_1)\n",
    "plt.plot(X[:, 0], X[:, 1],'o')\n",
    "plt.show()\n",
    "\n",
    "Test_Pic = [[255 for i in range(size_y)] for j in range(size_x)]\n",
    "Test_Pic = np.array(Test_Pic)\n",
    "#X=np.array(Pic_Data_1,dtype=np.uint8)\n",
    "\n",
    "for X_Index in X:\n",
    "    Test_Pic[X_Index[0]][X_Index[1]]=0\n",
    "\n",
    "\n",
    "thresh=np.array(Test_Pic,dtype=np.uint8)\n",
    "\n",
    "gray = thresh\n",
    "gradX = cv2.Sobel(gray, ddepth=cv2.CV_32F, dx=1, dy=0) \n",
    "gradY = cv2.Sobel(gray, ddepth=cv2.CV_32F, dx=0, dy=1) \n",
    "gradient = cv2.subtract(gradX, gradY) \n",
    "\n",
    "thresh = gradient\n",
    "thresh = Thresh_and_blur(gradient)\n",
    "\n",
    "kernel = cv2.getStructuringElement(cv2.MORPH_ELLIPSE, (40, 40))\n",
    "closed = cv2.morphologyEx(thresh, cv2.MORPH_CLOSE, kernel)\n",
    "closed = cv2.erode(closed, None, iterations=16)\n",
    "closed = cv2.dilate(closed, None, iterations=16)\n",
    "\n",
    "\n",
    "closed = np.array(closed,np.uint8)\n",
    "box = findcnts_and_box_point(closed)\n",
    "draw_img, crop_img = drawcnts_and_cut(original_img,box)\n",
    "\n",
    "\n"
   ]
  },
  {
   "cell_type": "code",
   "execution_count": 14,
   "id": "ce72bd9d",
   "metadata": {},
   "outputs": [
    {
     "data": {
      "text/plain": [
       "-1"
      ]
     },
     "execution_count": 14,
     "metadata": {},
     "output_type": "execute_result"
    }
   ],
   "source": [
    "cv2.imshow('original_img', original_img)\n",
    "cv2.waitKey(0)\n",
    "#cv2.imshow('blurred', blurred)\n",
    "#cv2.imshow('gradX', gradX)\n",
    "#cv2.imshow('gradY', gradY)\n",
    "#cv2.imshow('final', gradient)\n",
    "#cv2.imshow('thresh', thresh)\n",
    "#cv2.imshow('closed', closed)\n",
    "cv2.imshow('draw_img', draw_img)\n",
    "cv2.waitKey(0)\n",
    "cv2.imshow('crop_img', crop_img)\n",
    "cv2.waitKey(0)\n"
   ]
  },
  {
   "cell_type": "code",
   "execution_count": 15,
   "id": "64207ab6",
   "metadata": {},
   "outputs": [
    {
     "name": "stdout",
     "output_type": "stream",
     "text": [
      "Help on built-in function findContours:\n",
      "\n",
      "findContours(...)\n",
      "    findContours(image, mode, method[, contours[, hierarchy[, offset]]]) -> contours, hierarchy\n",
      "    .   @brief Finds contours in a binary image.\n",
      "    .   \n",
      "    .   The function retrieves contours from the binary image using the algorithm @cite Suzuki85 . The contours\n",
      "    .   are a useful tool for shape analysis and object detection and recognition. See squares.cpp in the\n",
      "    .   OpenCV sample directory.\n",
      "    .   @note Since opencv 3.2 source image is not modified by this function.\n",
      "    .   \n",
      "    .   @param image Source, an 8-bit single-channel image. Non-zero pixels are treated as 1's. Zero\n",
      "    .   pixels remain 0's, so the image is treated as binary . You can use #compare, #inRange, #threshold ,\n",
      "    .   #adaptiveThreshold, #Canny, and others to create a binary image out of a grayscale or color one.\n",
      "    .   If mode equals to #RETR_CCOMP or #RETR_FLOODFILL, the input can also be a 32-bit integer image of labels (CV_32SC1).\n",
      "    .   @param contours Detected contours. Each contour is stored as a vector of points (e.g.\n",
      "    .   std::vector<std::vector<cv::Point> >).\n",
      "    .   @param hierarchy Optional output vector (e.g. std::vector<cv::Vec4i>), containing information about the image topology. It has\n",
      "    .   as many elements as the number of contours. For each i-th contour contours[i], the elements\n",
      "    .   hierarchy[i][0] , hierarchy[i][1] , hierarchy[i][2] , and hierarchy[i][3] are set to 0-based indices\n",
      "    .   in contours of the next and previous contours at the same hierarchical level, the first child\n",
      "    .   contour and the parent contour, respectively. If for the contour i there are no next, previous,\n",
      "    .   parent, or nested contours, the corresponding elements of hierarchy[i] will be negative.\n",
      "    .   @param mode Contour retrieval mode, see #RetrievalModes\n",
      "    .   @param method Contour approximation method, see #ContourApproximationModes\n",
      "    .   @param offset Optional offset by which every contour point is shifted. This is useful if the\n",
      "    .   contours are extracted from the image ROI and then they should be analyzed in the whole image\n",
      "    .   context.\n",
      "\n"
     ]
    }
   ],
   "source": [
    "help(cv2.findContours) "
   ]
  },
  {
   "cell_type": "code",
   "execution_count": null,
   "id": "ce2d46fa",
   "metadata": {},
   "outputs": [],
   "source": []
  }
 ],
 "metadata": {
  "kernelspec": {
   "display_name": "Python 3",
   "language": "python",
   "name": "python3"
  },
  "language_info": {
   "codemirror_mode": {
    "name": "ipython",
    "version": 3
   },
   "file_extension": ".py",
   "mimetype": "text/x-python",
   "name": "python",
   "nbconvert_exporter": "python",
   "pygments_lexer": "ipython3",
   "version": "3.8.8"
  }
 },
 "nbformat": 4,
 "nbformat_minor": 5
}
