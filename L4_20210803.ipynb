{
 "cells": [
  {
   "cell_type": "code",
   "execution_count": 67,
   "id": "9b2afcf2",
   "metadata": {},
   "outputs": [],
   "source": [
    "import pandas as pd"
   ]
  },
  {
   "cell_type": "code",
   "execution_count": 68,
   "id": "0a360821",
   "metadata": {},
   "outputs": [],
   "source": [
    "df=pd.read_csv(\"C:/Users/histan/Desktop/NTU AI Program/AI Lab/Lesson4 20210803/bankruptcy (balance).csv\")"
   ]
  },
  {
   "cell_type": "code",
   "execution_count": 69,
   "id": "e5e79eca",
   "metadata": {},
   "outputs": [
    {
     "name": "stdout",
     "output_type": "stream",
     "text": [
      "          Attr1     Attr2     Attr3     Attr4     Attr5     Attr6     Attr7  \\\n",
      "0     -0.031545 -0.091313 -0.040269 -0.013529  0.007406 -0.016047 -0.000264   \n",
      "1     -0.231729 -0.049448  0.304381 -0.080975  0.007515 -0.016047 -0.034963   \n",
      "2     -0.058602  0.065060 -0.488404 -0.189489  0.006572 -0.016047 -0.004954   \n",
      "3     -0.069376  0.044641 -0.181684 -0.140032  0.007477 -0.010915 -0.005599   \n",
      "4      0.236424 -0.051912  0.678337 -0.014680  0.007879 -0.016047  0.057418   \n",
      "...         ...       ...       ...       ...       ...       ...       ...   \n",
      "19589 -0.232279  0.068074 -0.705143 -0.222192  0.005776 -0.013017 -0.035058   \n",
      "19590 -0.096004 -0.058023 -0.445118 -0.175664  0.006880 -0.016047 -0.010788   \n",
      "19591 -0.091435 -0.052463 -0.204797 -0.133794  0.006687 -0.016047 -0.010141   \n",
      "19592 -0.676310  0.245391 -3.155124 -0.304241 -0.001384 -0.037922 -0.105756   \n",
      "19593 -0.704013  0.098177 -1.208785 -0.246893  0.005521 -0.016047 -0.122524   \n",
      "\n",
      "          Attr8     Attr9    Attr10  ...    Attr56    Attr57    Attr58  \\\n",
      "0      0.641242 -0.748385  0.126789  ...  0.014367  0.005457 -0.014143   \n",
      "1      0.074710  0.469815  0.073759  ...  0.008492 -0.008385 -0.008666   \n",
      "2     -0.456287  0.270351 -0.071287  ...  0.010819  0.006779 -0.009437   \n",
      "3     -0.462971 -0.286746 -0.085266  ...  0.010683  0.005384 -0.010840   \n",
      "4      0.097183  0.423405  0.076880  ...  0.010970  0.025295 -0.011056   \n",
      "...         ...       ...       ...  ...       ...       ...       ...   \n",
      "19589 -0.463284 -0.779185 -0.075118  ...  0.007946 -0.022552 -0.007375   \n",
      "19590  0.161364 -0.535410  0.084622  ...  0.007875  0.001631 -0.009404   \n",
      "19591  0.110549 -0.676749  0.077578  ...  0.011158  0.001778 -0.010486   \n",
      "19592 -0.701694 -0.865427 -0.299722  ...  0.010425  0.086569 -0.005220   \n",
      "19593 -0.521067 -0.532024 -0.113239  ...  0.008168 -0.161565 -0.002684   \n",
      "\n",
      "         Attr59    Attr60    Attr61    Attr62    Attr63    Attr64  class  \n",
      "0     -0.020924  0.068399 -0.214478 -0.013915 -0.173939 -0.046788      0  \n",
      "1     -0.023095 -0.033498 -0.205796 -0.015174 -0.073056 -0.027236      0  \n",
      "2     -0.007919 -0.043455  0.019740 -0.011736 -0.291624 -0.033580      0  \n",
      "3      0.001381 -0.042828 -0.350519  0.002969 -0.554685 -0.046823      0  \n",
      "4     -0.022535 -0.035892 -0.181557 -0.015623 -0.027841 -0.023694      0  \n",
      "...         ...       ...       ...       ...       ...       ...    ...  \n",
      "19589 -0.001835 -0.036114 -0.153297  0.001160 -0.536996 -0.046648      1  \n",
      "19590 -0.022381 -0.042134  0.005324 -0.012069 -0.266326 -0.045288      1  \n",
      "19591 -0.022598 -0.043899 -0.241970 -0.006677 -0.428432 -0.045488      1  \n",
      "19592 -0.023947 -0.047152 -0.191137  0.072719 -0.691843 -0.046129      1  \n",
      "19593 -0.003830 -0.043985 -0.218351  0.005721 -0.573185 -0.042997      1  \n",
      "\n",
      "[19594 rows x 65 columns]\n"
     ]
    }
   ],
   "source": [
    "print(df)"
   ]
  },
  {
   "cell_type": "code",
   "execution_count": 70,
   "id": "86ac00d6",
   "metadata": {},
   "outputs": [],
   "source": [
    "X=df.loc[:,[\"Attr1\",\"Attr2\",\"Attr3\"]]"
   ]
  },
  {
   "cell_type": "code",
   "execution_count": 71,
   "id": "2e07d4a4",
   "metadata": {},
   "outputs": [
    {
     "name": "stdout",
     "output_type": "stream",
     "text": [
      "          Attr1     Attr2     Attr3\n",
      "0     -0.031545 -0.091313 -0.040269\n",
      "1     -0.231729 -0.049448  0.304381\n",
      "2     -0.058602  0.065060 -0.488404\n",
      "3     -0.069376  0.044641 -0.181684\n",
      "4      0.236424 -0.051912  0.678337\n",
      "...         ...       ...       ...\n",
      "19589 -0.232279  0.068074 -0.705143\n",
      "19590 -0.096004 -0.058023 -0.445118\n",
      "19591 -0.091435 -0.052463 -0.204797\n",
      "19592 -0.676310  0.245391 -3.155124\n",
      "19593 -0.704013  0.098177 -1.208785\n",
      "\n",
      "[19594 rows x 3 columns]\n"
     ]
    }
   ],
   "source": [
    "print(X)"
   ]
  },
  {
   "cell_type": "code",
   "execution_count": 72,
   "id": "cbe867ef",
   "metadata": {},
   "outputs": [],
   "source": [
    "Y=df.loc[:,[\"class\"]]"
   ]
  },
  {
   "cell_type": "code",
   "execution_count": 73,
   "id": "1169850a",
   "metadata": {},
   "outputs": [
    {
     "name": "stdout",
     "output_type": "stream",
     "text": [
      "       class\n",
      "0          0\n",
      "1          0\n",
      "2          0\n",
      "3          0\n",
      "4          0\n",
      "...      ...\n",
      "19589      1\n",
      "19590      1\n",
      "19591      1\n",
      "19592      1\n",
      "19593      1\n",
      "\n",
      "[19594 rows x 1 columns]\n"
     ]
    }
   ],
   "source": [
    "print(Y)"
   ]
  },
  {
   "cell_type": "code",
   "execution_count": 74,
   "id": "5e8f56b5",
   "metadata": {},
   "outputs": [],
   "source": [
    "from sklearn.model_selection import train_test_split"
   ]
  },
  {
   "cell_type": "code",
   "execution_count": 75,
   "id": "7cfa9f88",
   "metadata": {},
   "outputs": [],
   "source": [
    "X_train,X_test,Y_train,Y_test=train_test_split(X,Y,test_size=0.3)"
   ]
  },
  {
   "cell_type": "code",
   "execution_count": 76,
   "id": "851de701",
   "metadata": {},
   "outputs": [
    {
     "name": "stdout",
     "output_type": "stream",
     "text": [
      "          Attr1     Attr2     Attr3\n",
      "3165  -0.063917 -0.016438  1.427104\n",
      "9688   0.144513 -0.058880  1.355604\n",
      "17293 -0.053830  0.084637 -0.194778\n",
      "129   -0.401868  0.046114 -0.917633\n",
      "5964  -0.030797 -0.078054  0.701084\n",
      "...         ...       ...       ...\n",
      "6839  -1.081330  0.311871 -3.524263\n",
      "16177 -0.479072  0.613320 -1.488545\n",
      "10935  0.094027 -0.025513  1.131583\n",
      "1027  -0.001145 -0.043392 -0.454862\n",
      "9554  -0.186169  0.054624  0.496599\n",
      "\n",
      "[13715 rows x 3 columns]           Attr1     Attr2     Attr3\n",
      "12661 -0.167798 -0.063493 -0.453676\n",
      "13593 -0.066560  0.107060 -1.970184\n",
      "13055 -0.330138  0.051592 -0.901138\n",
      "17663  0.018665  0.057432  0.601546\n",
      "9390  -0.084903  0.109803 -1.029424\n",
      "...         ...       ...       ...\n",
      "17902 -0.080088 -0.011525 -0.169116\n",
      "3480   0.260047  0.013146  0.538482\n",
      "16212 -0.067338  0.021658  0.318040\n",
      "13838 -0.109416  0.124487 -1.772287\n",
      "10663 -0.111683  0.025443 -0.433778\n",
      "\n",
      "[5879 rows x 3 columns]        class\n",
      "3165       0\n",
      "9688       0\n",
      "17293      1\n",
      "129        0\n",
      "5964       0\n",
      "...      ...\n",
      "6839       1\n",
      "16177      1\n",
      "10935      1\n",
      "1027       0\n",
      "9554       0\n",
      "\n",
      "[13715 rows x 1 columns]        class\n",
      "12661      1\n",
      "13593      1\n",
      "13055      1\n",
      "17663      1\n",
      "9390       0\n",
      "...      ...\n",
      "17902      1\n",
      "3480       0\n",
      "16212      1\n",
      "13838      1\n",
      "10663      1\n",
      "\n",
      "[5879 rows x 1 columns]\n"
     ]
    }
   ],
   "source": [
    "print(X_train,X_test,Y_train,Y_test)"
   ]
  },
  {
   "cell_type": "code",
   "execution_count": 77,
   "id": "c089eac0",
   "metadata": {},
   "outputs": [],
   "source": [
    "from tensorflow.keras.models import Sequential"
   ]
  },
  {
   "cell_type": "code",
   "execution_count": 78,
   "id": "c50d0576",
   "metadata": {},
   "outputs": [],
   "source": [
    "from tensorflow.keras.layers import Dense, Dropout"
   ]
  },
  {
   "cell_type": "code",
   "execution_count": 79,
   "id": "671f9e05",
   "metadata": {},
   "outputs": [],
   "source": [
    "from sklearn.metrics import confusion_matrix"
   ]
  },
  {
   "cell_type": "code",
   "execution_count": 80,
   "id": "9234c8db",
   "metadata": {},
   "outputs": [
    {
     "data": {
      "text/plain": [
       "['_TF_MODULE_IGNORED_PROPERTIES',\n",
       " '__call__',\n",
       " '__class__',\n",
       " '__delattr__',\n",
       " '__dict__',\n",
       " '__dir__',\n",
       " '__doc__',\n",
       " '__eq__',\n",
       " '__format__',\n",
       " '__ge__',\n",
       " '__getattribute__',\n",
       " '__getstate__',\n",
       " '__gt__',\n",
       " '__hash__',\n",
       " '__init__',\n",
       " '__init_subclass__',\n",
       " '__le__',\n",
       " '__lt__',\n",
       " '__module__',\n",
       " '__ne__',\n",
       " '__new__',\n",
       " '__reduce__',\n",
       " '__reduce_ex__',\n",
       " '__repr__',\n",
       " '__setattr__',\n",
       " '__setstate__',\n",
       " '__sizeof__',\n",
       " '__str__',\n",
       " '__subclasshook__',\n",
       " '__weakref__',\n",
       " '_add_trackable',\n",
       " '_add_variable_with_custom_getter',\n",
       " '_assert_compile_was_called',\n",
       " '_assert_weights_created',\n",
       " '_autographed_call',\n",
       " '_build_graph_network_for_inferred_shape',\n",
       " '_call_accepts_kwargs',\n",
       " '_call_arg_was_passed',\n",
       " '_call_fn_arg_defaults',\n",
       " '_call_fn_arg_positions',\n",
       " '_call_fn_args',\n",
       " '_call_full_argspec',\n",
       " '_cast_single_input',\n",
       " '_check_call_args',\n",
       " '_checkpoint_dependencies',\n",
       " '_clear_losses',\n",
       " '_compile_was_called',\n",
       " '_compute_dtype',\n",
       " '_compute_tensor_usage_count',\n",
       " '_configure_steps_per_execution',\n",
       " '_conform_to_reference_input',\n",
       " '_dedup_weights',\n",
       " '_deferred_dependencies',\n",
       " '_dtype',\n",
       " '_eager_losses',\n",
       " '_flatten',\n",
       " '_flatten_layers',\n",
       " '_flatten_to_reference_inputs',\n",
       " '_functional_construction_call',\n",
       " '_gather_children_attribute',\n",
       " '_gather_saveables_for_checkpoint',\n",
       " '_get_call_arg_value',\n",
       " '_get_callback_model',\n",
       " '_get_compile_args',\n",
       " '_get_distribution_strategy',\n",
       " '_get_existing_metric',\n",
       " '_get_input_masks',\n",
       " '_get_node_attribute_at_index',\n",
       " '_get_optimizer',\n",
       " '_get_save_spec',\n",
       " '_get_trainable_state',\n",
       " '_graph_network_add_loss',\n",
       " '_graph_network_add_metric',\n",
       " '_handle_activity_regularization',\n",
       " '_handle_deferred_dependencies',\n",
       " '_handle_deferred_layer_dependencies',\n",
       " '_handle_weight_regularization',\n",
       " '_in_multi_worker_mode',\n",
       " '_infer_output_signature',\n",
       " '_init_batch_counters',\n",
       " '_init_call_fn_args',\n",
       " '_init_graph_network',\n",
       " '_init_set_name',\n",
       " '_insert_layers',\n",
       " '_is_layer',\n",
       " '_is_layer_name_unique',\n",
       " '_keras_api_names',\n",
       " '_keras_api_names_v1',\n",
       " '_keras_tensor_symbolic_call',\n",
       " '_layer_checkpoint_dependencies',\n",
       " '_list_extra_dependencies_for_serialization',\n",
       " '_list_functions_for_serialization',\n",
       " '_lookup_dependency',\n",
       " '_map_resources',\n",
       " '_maybe_build',\n",
       " '_maybe_cast_inputs',\n",
       " '_maybe_create_attribute',\n",
       " '_maybe_initialize_trackable',\n",
       " '_maybe_load_initial_epoch_from_ckpt',\n",
       " '_must_restore_from_config',\n",
       " '_name_based_attribute_restore',\n",
       " '_name_based_restores',\n",
       " '_name_scope',\n",
       " '_no_dependency',\n",
       " '_obj_reference_counts',\n",
       " '_object_identifier',\n",
       " '_preload_simple_restoration',\n",
       " '_reset_compile_cache',\n",
       " '_restore_from_checkpoint_position',\n",
       " '_run_internal_graph',\n",
       " '_set_call_arg_value',\n",
       " '_set_connectivity_metadata',\n",
       " '_set_dtype_policy',\n",
       " '_set_inputs',\n",
       " '_set_mask_keras_history_checked',\n",
       " '_set_mask_metadata',\n",
       " '_set_output_names',\n",
       " '_set_save_spec',\n",
       " '_set_trainable_state',\n",
       " '_set_training_mode',\n",
       " '_setattr_tracking',\n",
       " '_should_cast_single_input',\n",
       " '_should_compute_mask',\n",
       " '_should_eval',\n",
       " '_single_restoration_from_checkpoint_position',\n",
       " '_split_out_first_arg',\n",
       " '_symbolic_call',\n",
       " '_tf_api_names',\n",
       " '_tf_api_names_v1',\n",
       " '_track_trackable',\n",
       " '_trackable_saved_model_saver',\n",
       " '_tracking_metadata',\n",
       " '_unconditional_checkpoint_dependencies',\n",
       " '_unconditional_dependency_names',\n",
       " '_undeduplicated_weights',\n",
       " '_update_uid',\n",
       " '_updated_config',\n",
       " '_validate_compile',\n",
       " '_validate_graph_inputs_and_outputs',\n",
       " '_warn_about_input_casting',\n",
       " 'activity_regularizer',\n",
       " 'add',\n",
       " 'add_loss',\n",
       " 'add_metric',\n",
       " 'add_update',\n",
       " 'add_variable',\n",
       " 'add_weight',\n",
       " 'apply',\n",
       " 'build',\n",
       " 'call',\n",
       " 'compile',\n",
       " 'compute_mask',\n",
       " 'compute_output_shape',\n",
       " 'compute_output_signature',\n",
       " 'count_params',\n",
       " 'distribute_strategy',\n",
       " 'dtype',\n",
       " 'dynamic',\n",
       " 'evaluate',\n",
       " 'evaluate_generator',\n",
       " 'fit',\n",
       " 'fit_generator',\n",
       " 'from_config',\n",
       " 'get_config',\n",
       " 'get_input_at',\n",
       " 'get_input_mask_at',\n",
       " 'get_input_shape_at',\n",
       " 'get_layer',\n",
       " 'get_losses_for',\n",
       " 'get_output_at',\n",
       " 'get_output_mask_at',\n",
       " 'get_output_shape_at',\n",
       " 'get_updates_for',\n",
       " 'get_weights',\n",
       " 'inbound_nodes',\n",
       " 'input',\n",
       " 'input_mask',\n",
       " 'input_shape',\n",
       " 'input_spec',\n",
       " 'layers',\n",
       " 'load_weights',\n",
       " 'losses',\n",
       " 'make_predict_function',\n",
       " 'make_test_function',\n",
       " 'make_train_function',\n",
       " 'metrics',\n",
       " 'metrics_names',\n",
       " 'name',\n",
       " 'name_scope',\n",
       " 'non_trainable_variables',\n",
       " 'non_trainable_weights',\n",
       " 'outbound_nodes',\n",
       " 'output',\n",
       " 'output_mask',\n",
       " 'output_shape',\n",
       " 'pop',\n",
       " 'predict',\n",
       " 'predict_classes',\n",
       " 'predict_generator',\n",
       " 'predict_on_batch',\n",
       " 'predict_proba',\n",
       " 'predict_step',\n",
       " 'reset_metrics',\n",
       " 'reset_states',\n",
       " 'run_eagerly',\n",
       " 'save',\n",
       " 'save_weights',\n",
       " 'set_weights',\n",
       " 'state_updates',\n",
       " 'stateful',\n",
       " 'submodules',\n",
       " 'summary',\n",
       " 'supports_masking',\n",
       " 'test_on_batch',\n",
       " 'test_step',\n",
       " 'to_json',\n",
       " 'to_yaml',\n",
       " 'train_on_batch',\n",
       " 'train_step',\n",
       " 'trainable',\n",
       " 'trainable_variables',\n",
       " 'trainable_weights',\n",
       " 'updates',\n",
       " 'variables',\n",
       " 'weights',\n",
       " 'with_name_scope']"
      ]
     },
     "execution_count": 80,
     "metadata": {},
     "output_type": "execute_result"
    }
   ],
   "source": [
    "dir(Sequential)"
   ]
  },
  {
   "cell_type": "code",
   "execution_count": 81,
   "id": "ee7ca00c",
   "metadata": {},
   "outputs": [],
   "source": [
    "import tensorflow.keras.models"
   ]
  },
  {
   "cell_type": "code",
   "execution_count": 82,
   "id": "8a0b3059",
   "metadata": {},
   "outputs": [
    {
     "data": {
      "text/plain": [
       "['Model',\n",
       " 'Sequential',\n",
       " '__builtins__',\n",
       " '__cached__',\n",
       " '__doc__',\n",
       " '__file__',\n",
       " '__loader__',\n",
       " '__name__',\n",
       " '__package__',\n",
       " '__path__',\n",
       " '__spec__',\n",
       " '_sys',\n",
       " 'clone_model',\n",
       " 'load_model',\n",
       " 'model_from_config',\n",
       " 'model_from_json',\n",
       " 'model_from_yaml',\n",
       " 'save_model']"
      ]
     },
     "execution_count": 82,
     "metadata": {},
     "output_type": "execute_result"
    }
   ],
   "source": [
    "dir(tensorflow.keras.models)"
   ]
  },
  {
   "cell_type": "code",
   "execution_count": 83,
   "id": "fcf692be",
   "metadata": {},
   "outputs": [],
   "source": [
    "model= Sequential()"
   ]
  },
  {
   "cell_type": "code",
   "execution_count": 84,
   "id": "5fe8baff",
   "metadata": {},
   "outputs": [],
   "source": [
    "model.add(Dense(10,input_dim=3,activation=\"relu\"))\n",
    "model.add(Dropout(0.2))"
   ]
  },
  {
   "cell_type": "code",
   "execution_count": 85,
   "id": "01b59110",
   "metadata": {},
   "outputs": [],
   "source": [
    "model.add(Dense(8,activation=\"relu\"))\n",
    "model.add(Dropout(0.3))"
   ]
  },
  {
   "cell_type": "code",
   "execution_count": 86,
   "id": "ac232370",
   "metadata": {},
   "outputs": [],
   "source": [
    "model.add(Dense(6,activation=\"relu\"))\n",
    "model.add(Dropout(0.2))"
   ]
  },
  {
   "cell_type": "code",
   "execution_count": 87,
   "id": "c19d56b3",
   "metadata": {},
   "outputs": [],
   "source": [
    "model.add(Dense(1,activation=\"sigmoid\"))"
   ]
  },
  {
   "cell_type": "code",
   "execution_count": 88,
   "id": "49a23a97",
   "metadata": {},
   "outputs": [],
   "source": [
    "model.compile(loss='binary_crossentropy',optimizer=\"Adamax\",metrics=[\"accuracy\"])"
   ]
  },
  {
   "cell_type": "code",
   "execution_count": 89,
   "id": "a1bc7a98",
   "metadata": {},
   "outputs": [
    {
     "name": "stdout",
     "output_type": "stream",
     "text": [
      "Epoch 1/30\n",
      "1372/1372 [==============================] - 1s 455us/step - loss: 0.6826 - accuracy: 0.5972\n",
      "Epoch 2/30\n",
      "1372/1372 [==============================] - 1s 449us/step - loss: 0.6744 - accuracy: 0.6116\n",
      "Epoch 3/30\n",
      "1372/1372 [==============================] - 1s 459us/step - loss: 0.6675 - accuracy: 0.6240\n",
      "Epoch 4/30\n",
      "1372/1372 [==============================] - 1s 452us/step - loss: 0.6530 - accuracy: 0.6388\n",
      "Epoch 5/30\n",
      "1372/1372 [==============================] - 1s 464us/step - loss: 0.6449 - accuracy: 0.6512\n",
      "Epoch 6/30\n",
      "1372/1372 [==============================] - 1s 458us/step - loss: 0.6412 - accuracy: 0.6576\n",
      "Epoch 7/30\n",
      "1372/1372 [==============================] - 1s 457us/step - loss: 0.6356 - accuracy: 0.6648\n",
      "Epoch 8/30\n",
      "1372/1372 [==============================] - 1s 465us/step - loss: 0.6301 - accuracy: 0.6705\n",
      "Epoch 9/30\n",
      "1372/1372 [==============================] - 1s 467us/step - loss: 0.6311 - accuracy: 0.6741\n",
      "Epoch 10/30\n",
      "1372/1372 [==============================] - 1s 460us/step - loss: 0.6238 - accuracy: 0.6772\n",
      "Epoch 11/30\n",
      "1372/1372 [==============================] - 1s 457us/step - loss: 0.6167 - accuracy: 0.6793\n",
      "Epoch 12/30\n",
      "1372/1372 [==============================] - 1s 461us/step - loss: 0.6162 - accuracy: 0.6851\n",
      "Epoch 13/30\n",
      "1372/1372 [==============================] - 1s 462us/step - loss: 0.6108 - accuracy: 0.6867\n",
      "Epoch 14/30\n",
      "1372/1372 [==============================] - 1s 546us/step - loss: 0.6146 - accuracy: 0.6849\n",
      "Epoch 15/30\n",
      "1372/1372 [==============================] - 1s 512us/step - loss: 0.6108 - accuracy: 0.6847\n",
      "Epoch 16/30\n",
      "1372/1372 [==============================] - 1s 473us/step - loss: 0.6070 - accuracy: 0.6882\n",
      "Epoch 17/30\n",
      "1372/1372 [==============================] - 1s 475us/step - loss: 0.6097 - accuracy: 0.6882\n",
      "Epoch 18/30\n",
      "1372/1372 [==============================] - 1s 466us/step - loss: 0.6061 - accuracy: 0.6923\n",
      "Epoch 19/30\n",
      "1372/1372 [==============================] - 1s 462us/step - loss: 0.6062 - accuracy: 0.6868\n",
      "Epoch 20/30\n",
      "1372/1372 [==============================] - 1s 469us/step - loss: 0.6066 - accuracy: 0.6900\n",
      "Epoch 21/30\n",
      "1372/1372 [==============================] - 1s 467us/step - loss: 0.6052 - accuracy: 0.6947\n",
      "Epoch 22/30\n",
      "1372/1372 [==============================] - 1s 566us/step - loss: 0.6020 - accuracy: 0.6925\n",
      "Epoch 23/30\n",
      "1372/1372 [==============================] - 1s 637us/step - loss: 0.6048 - accuracy: 0.6892\n",
      "Epoch 24/30\n",
      "1372/1372 [==============================] - 1s 636us/step - loss: 0.6022 - accuracy: 0.6925\n",
      "Epoch 25/30\n",
      "1372/1372 [==============================] - 1s 630us/step - loss: 0.6055 - accuracy: 0.6931\n",
      "Epoch 26/30\n",
      "1372/1372 [==============================] - 1s 632us/step - loss: 0.6029 - accuracy: 0.6913\n",
      "Epoch 27/30\n",
      "1372/1372 [==============================] - 1s 635us/step - loss: 0.6040 - accuracy: 0.6910\n",
      "Epoch 28/30\n",
      "1372/1372 [==============================] - 1s 643us/step - loss: 0.6034 - accuracy: 0.6899\n",
      "Epoch 29/30\n",
      "1372/1372 [==============================] - 1s 636us/step - loss: 0.6030 - accuracy: 0.6901\n",
      "Epoch 30/30\n",
      "1372/1372 [==============================] - 1s 645us/step - loss: 0.6012 - accuracy: 0.6868\n"
     ]
    },
    {
     "data": {
      "text/plain": [
       "<tensorflow.python.keras.callbacks.History at 0x2dff81eb820>"
      ]
     },
     "execution_count": 89,
     "metadata": {},
     "output_type": "execute_result"
    }
   ],
   "source": [
    "model.fit(X_train,Y_train,batch_size=10,epochs=30,verbose=1)"
   ]
  },
  {
   "cell_type": "code",
   "execution_count": 90,
   "id": "b9dbd671",
   "metadata": {},
   "outputs": [
    {
     "name": "stdout",
     "output_type": "stream",
     "text": [
      "Model: \"sequential_5\"\n",
      "_________________________________________________________________\n",
      "Layer (type)                 Output Shape              Param #   \n",
      "=================================================================\n",
      "dense_10 (Dense)             (None, 10)                40        \n",
      "_________________________________________________________________\n",
      "dropout_6 (Dropout)          (None, 10)                0         \n",
      "_________________________________________________________________\n",
      "dense_11 (Dense)             (None, 8)                 88        \n",
      "_________________________________________________________________\n",
      "dropout_7 (Dropout)          (None, 8)                 0         \n",
      "_________________________________________________________________\n",
      "dense_12 (Dense)             (None, 6)                 54        \n",
      "_________________________________________________________________\n",
      "dropout_8 (Dropout)          (None, 6)                 0         \n",
      "_________________________________________________________________\n",
      "dense_13 (Dense)             (None, 1)                 7         \n",
      "=================================================================\n",
      "Total params: 189\n",
      "Trainable params: 189\n",
      "Non-trainable params: 0\n",
      "_________________________________________________________________\n"
     ]
    }
   ],
   "source": [
    "model.summary()"
   ]
  },
  {
   "cell_type": "code",
   "execution_count": 91,
   "id": "20d4bd3e",
   "metadata": {},
   "outputs": [
    {
     "data": {
      "text/plain": [
       "[<tf.Variable 'dense_10/kernel:0' shape=(3, 10) dtype=float32, numpy=\n",
       " array([[-0.0886283 , -0.30077845,  0.29169238,  0.78571767, -0.60677683,\n",
       "          0.14088129,  0.02648067, -1.3466598 ,  1.1929107 , -0.48913106],\n",
       "        [-1.2921011 ,  0.02912468,  0.3468095 , -1.1626768 ,  0.72603595,\n",
       "         -1.513555  ,  0.478066  ,  0.9495464 , -2.1072123 ,  0.5262236 ],\n",
       "        [ 0.41153514, -0.327419  , -0.09706535, -0.03884021,  0.00348211,\n",
       "          0.13456714,  0.22701445, -0.29304636, -0.10003434,  0.04928138]],\n",
       "       dtype=float32)>,\n",
       " <tf.Variable 'dense_10/bias:0' shape=(10,) dtype=float32, numpy=\n",
       " array([0.02019941, 0.0638862 , 0.03949377, 0.09218431, 0.04148377,\n",
       "        0.13937685, 0.0686149 , 0.06692505, 0.09111057, 0.06604263],\n",
       "       dtype=float32)>,\n",
       " <tf.Variable 'dense_11/kernel:0' shape=(10, 8) dtype=float32, numpy=\n",
       " array([[-0.62220913, -0.24139568,  0.30076963, -0.07695704, -0.05111283,\n",
       "         -0.12970269,  0.01745236, -0.21281299],\n",
       "        [ 0.27390823,  0.00855141,  0.29423591,  0.25995222,  0.38167801,\n",
       "         -0.16172388, -0.13925186,  0.41411057],\n",
       "        [ 0.13988039,  0.01015592,  0.04948572, -0.00300845, -0.14856716,\n",
       "         -0.4506753 ,  0.27342916, -0.02985809],\n",
       "        [-0.57186043, -1.3074125 ,  1.3077362 , -1.3728658 , -0.79057217,\n",
       "          0.37252998, -0.02209138, -0.7575889 ],\n",
       "        [ 0.24661693,  0.45831493, -0.03616812,  0.07872995,  0.5590938 ,\n",
       "          0.5692392 , -0.49478206,  0.7585907 ],\n",
       "        [-0.5631536 , -0.37848035,  0.3935926 , -0.3714487 , -0.21194634,\n",
       "         -0.5328015 , -0.34228578, -0.00486778],\n",
       "        [-0.4245285 , -0.64761806, -0.5001672 , -0.13839729,  0.01159107,\n",
       "          0.17355125, -0.4242891 , -0.01496869],\n",
       "        [ 0.31354928,  0.03762792,  0.06829263,  0.25431412,  0.3540698 ,\n",
       "         -0.5376813 , -0.56894284,  0.05751695],\n",
       "        [-0.4912314 , -0.8325951 ,  1.2204865 , -1.1476431 , -0.86902094,\n",
       "         -0.09943437, -0.01178828, -0.7807951 ],\n",
       "        [ 0.47961226,  0.7163283 , -0.55865824,  0.00684417,  0.26360235,\n",
       "          0.14431837, -0.10909035,  0.56653047]], dtype=float32)>,\n",
       " <tf.Variable 'dense_11/bias:0' shape=(8,) dtype=float32, numpy=\n",
       " array([ 0.24892692,  0.23513669, -0.2671768 ,  0.42892763,  0.18745664,\n",
       "        -0.17556433, -0.07317385,  0.18879274], dtype=float32)>,\n",
       " <tf.Variable 'dense_12/kernel:0' shape=(8, 6) dtype=float32, numpy=\n",
       " array([[ 0.50915766, -0.05553882, -0.11013433,  0.1291983 ,  0.3534299 ,\n",
       "         -0.6437899 ],\n",
       "        [ 0.7881357 ,  0.68919486, -0.3453551 ,  0.79883516, -0.34576145,\n",
       "         -0.8434527 ],\n",
       "        [-0.9679715 , -0.5349267 , -0.50759333, -0.31310648, -0.5822814 ,\n",
       "          0.9371119 ],\n",
       "        [-0.05194451,  0.16883795,  0.8340138 , -0.33776003, -0.24900693,\n",
       "         -0.36593226],\n",
       "        [ 0.25519085,  0.4504585 , -0.00397391, -0.25431108, -0.22084482,\n",
       "         -0.6357678 ],\n",
       "        [ 0.21437386,  0.4242357 , -0.10930274,  0.03130069,  0.33055204,\n",
       "         -0.08361524],\n",
       "        [-0.46011963, -0.34911424,  0.32085717,  0.11814453,  0.2505589 ,\n",
       "         -0.46261054],\n",
       "        [ 0.04227528, -0.0464486 , -0.1812889 ,  0.58074224,  0.45175746,\n",
       "         -0.7540643 ]], dtype=float32)>,\n",
       " <tf.Variable 'dense_12/bias:0' shape=(6,) dtype=float32, numpy=\n",
       " array([ 0.16309229,  0.05805416, -0.01697877, -0.00308354,  0.00227939,\n",
       "         0.7661333 ], dtype=float32)>,\n",
       " <tf.Variable 'dense_13/kernel:0' shape=(6, 1) dtype=float32, numpy=\n",
       " array([[ 0.2403057 ],\n",
       "        [ 0.34722638],\n",
       "        [ 0.6364798 ],\n",
       "        [ 0.33924913],\n",
       "        [ 0.5027243 ],\n",
       "        [-0.9129694 ]], dtype=float32)>,\n",
       " <tf.Variable 'dense_13/bias:0' shape=(1,) dtype=float32, numpy=array([-0.2267451], dtype=float32)>]"
      ]
     },
     "execution_count": 91,
     "metadata": {},
     "output_type": "execute_result"
    }
   ],
   "source": [
    "model.weights"
   ]
  },
  {
   "cell_type": "code",
   "execution_count": 92,
   "id": "be8fb4c3",
   "metadata": {},
   "outputs": [
    {
     "name": "stdout",
     "output_type": "stream",
     "text": [
      "INFO:tensorflow:Assets written to: C:/Users/histan/Desktop/NTU AI Program/AI Lab/Lesson4 20210803\\assets\n"
     ]
    }
   ],
   "source": [
    "model.save(\"C:/Users/histan/Desktop/NTU AI Program/AI Lab/Lesson4 20210803\")"
   ]
  }
 ],
 "metadata": {
  "kernelspec": {
   "display_name": "Python 3",
   "language": "python",
   "name": "python3"
  },
  "language_info": {
   "codemirror_mode": {
    "name": "ipython",
    "version": 3
   },
   "file_extension": ".py",
   "mimetype": "text/x-python",
   "name": "python",
   "nbconvert_exporter": "python",
   "pygments_lexer": "ipython3",
   "version": "3.8.8"
  }
 },
 "nbformat": 4,
 "nbformat_minor": 5
}
